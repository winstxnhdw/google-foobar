{
 "metadata": {
  "language_info": {
   "codemirror_mode": {
    "name": "ipython",
    "version": 3
   },
   "file_extension": ".py",
   "mimetype": "text/x-python",
   "name": "python",
   "nbconvert_exporter": "python",
   "pygments_lexer": "ipython3",
   "version": "3.8.5"
  },
  "orig_nbformat": 4,
  "kernelspec": {
   "name": "python3",
   "display_name": "Python 3.8.5 64-bit"
  },
  "interpreter": {
   "hash": "31f2aee4e71d21fbe5cf8b01ff0e069b9275f58929596ceb00d14d90e3e16cd6"
  }
 },
 "nbformat": 4,
 "nbformat_minor": 2,
 "cells": [
  {
   "source": [
    "Braille Translation\n",
    "===================\n",
    "\n",
    "Because Commander Lambda is an equal-opportunity despot, they have several visually-impaired minions. But Lambda never bothered to follow intergalactic standards for workplace accommodations, so those minions have a hard time navigating her space station. You figure printing out Braille signs will help them, and -- since you'll be promoting efficiency at the same time -- increase your chances of a promotion. \n",
    "\n",
    "Braille is a writing system used to read by touch instead of by sight. Each character is composed of 6 dots in a 2x3 grid, where each dot can either be a bump or be flat (no bump). You plan to translate the signs around the space station to Braille so that the minions under Commander Lambda's command can feel the bumps on the signs and \"read\" the text with their touch. The special printer which can print the bumps onto the signs expects the dots in the following order:\n",
    "\n",
    "1 4 \n",
    "\n",
    "2 5\n",
    "\n",
    "3 6\n",
    "\n",
    "So given the plain text word \"code\", you get the Braille dots:\n",
    "\n",
    "11 10 11 10\n",
    "\n",
    "00 01 01 01\n",
    "\n",
    "00 10 00 00\n",
    "\n",
    "where 1 represents a bump and 0 represents no bump.  Put together, \"code\" becomes the output string \"100100101010100110100010\".\n",
    "\n",
    "Write a function solution(plaintext) that takes a string parameter and returns a string of 1's and 0's representing the bumps and absence of bumps in the input string. Your function should be able to encode the 26 lowercase letters, handle capital letters by adding a Braille capitalization mark before that character, and use a blank character (000000) for spaces. All signs on the space station are less than fifty characters long and use only letters and spaces.\n"
   ],
   "cell_type": "markdown",
   "metadata": {}
  },
  {
   "cell_type": "code",
   "execution_count": 1,
   "metadata": {},
   "outputs": [],
   "source": [
    "braille_dict = {\n",
    "    'a': '100000',\n",
    "    'b': '110000',\n",
    "    'c': '100100',\n",
    "    'd': '100110',\n",
    "    'e': '100010',\n",
    "    'f': '110100',\n",
    "    'g': '110110',\n",
    "    'h': '110010',\n",
    "    'i': '010100',\n",
    "    'j': '010110',\n",
    "    'k': '101000',\n",
    "    'l': '111000',\n",
    "    'm': '101100',\n",
    "    'n': '101110',\n",
    "    'o': '101010',\n",
    "    'p': '111100',\n",
    "    'q': '111110',\n",
    "    'r': '111010',\n",
    "    's': '011100',\n",
    "    't': '011110',\n",
    "    'u': '101001',\n",
    "    'v': '111001',\n",
    "    'w': '010111',\n",
    "    'x': '101101',\n",
    "    'y': '101111',\n",
    "    'z': '101011',\n",
    "    ' ': '000000',\n",
    "    'uppercase': '000001'\n",
    "}"
   ]
  },
  {
   "cell_type": "code",
   "execution_count": 2,
   "metadata": {},
   "outputs": [
    {
     "output_type": "stream",
     "name": "stdout",
     "text": [
      "['000001', '110000', '111010', '100000', '010100', '111000', '111000', '100010']\n000001110000111010100000010100111000111000100010\n"
     ]
    }
   ],
   "source": [
    "def solution(s):\n",
    "\n",
    "    phrase = [char for char in s]\n",
    "    brdict = braille_dict\n",
    "    res = []\n",
    "    \n",
    "    for letter in phrase:\n",
    "        code = brdict.get(letter.lower())\n",
    "        \n",
    "        if letter.isupper() == True:\n",
    "            uppercase = brdict.get('uppercase')\n",
    "            res.append(uppercase)\n",
    "            res.append(code)\n",
    "            \n",
    "        else:\n",
    "            res.append(code)\n",
    "            \n",
    "    return ''.join(res)\n",
    "\n",
    "print(solution(\"Braille\"))"
   ]
  }
 ]
}