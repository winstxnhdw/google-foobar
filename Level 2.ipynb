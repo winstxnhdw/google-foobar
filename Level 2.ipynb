{
 "metadata": {
  "language_info": {
   "codemirror_mode": {
    "name": "ipython",
    "version": 3
   },
   "file_extension": ".py",
   "mimetype": "text/x-python",
   "name": "python",
   "nbconvert_exporter": "python",
   "pygments_lexer": "ipython3",
   "version": "2.7.18"
  },
  "orig_nbformat": 4,
  "kernelspec": {
   "name": "python3",
   "display_name": "Python 2.7.18 64-bit ('py2': conda)"
  },
  "interpreter": {
   "hash": "25fae9a996b160a3ae99c47a749924d7429a365b36aa7e968892cbed5f83cf4e"
  }
 },
 "nbformat": 4,
 "nbformat_minor": 2,
 "cells": [
  {
   "source": [
    "Lovely Lucky LAMBs\n",
    "==================\n",
    "\n",
    "Being a henchman isn't all drudgery. Occasionally, when feeling generous, Commander Lambda hand out Lucky LAMBs (Lambda's All-purpose Money Bucks). Henchmen can use Lucky LAMBs to buy things like a second pair of socks, a pillow for their bunks, or even a third daily meal!\n",
    "\n",
    "However, actually passing out LAMBs isn't easy. Each henchman squad has a strict seniority ranking which must be respected -- or else the henchmen will revolt and you'll all get demoted back to minions again! \n",
    "\n",
    "There are 4 key rules which you must follow in order to avoid a revolt:\n",
    "\n",
    "1. The most junior henchman (with the least seniority) gets exactly 1 LAMB.\n",
    "(There will always be at least 1 henchman on a team.)\n",
    "\n",
    "2. A henchman will revolt if the person who ranks immediately above them gets more than double the number of LAMBs they do.\n",
    "\n",
    "3. A henchman will revolt if the amount of LAMBs given to their next two subordinates combined is more than the number of LAMBs they get.  \n",
    "(Note that the two most junior henchmen won't have two subordinates, so this rule doesn't apply to them.  The 2nd most junior henchman would require at least as many LAMBs as the most junior henchman.)\n",
    "\n",
    "4. You can always find more henchmen to pay - the Commander has plenty of employees.  If there are enough LAMBs left over such that another henchman could be added as the most senior while obeying the other rules, you must always add and pay that henchman.\n",
    "\n",
    "Note that you may not be able to hand out all the LAMBs. A single LAMB cannot be subdivided. That is, all henchmen must get a positive integer number of LAMBs.\n",
    "\n",
    "Write a function called solution(total_lambs), where total_lambs is the integer number of LAMBs in the handout you are trying to divide. It should return an integer which represents the difference between the minimum and maximum number of henchmen who can share the LAMBs (that is, being as generous as possible to those you pay and as stingy as possible, respectively) while still obeying all of the above rules to avoid a revolt.  For instance, if you had 10 LAMBs and were as generous as possible, you could only pay 3 henchmen (1, 2, and 4 LAMBs, in order of ascending seniority), whereas if you were as stingy as possible, you could pay 4 henchmen (1, 1, 2, and 3 LAMBs). Therefore, solution(10) should return 4-3 = 1.\n",
    "\n",
    "To keep things interesting, Commander Lambda varies the sizes of the Lucky LAMB payouts. You can expect total_lambs to always be a positive integer less than 1 billion (10 ^ 9)."
   ],
   "cell_type": "markdown",
   "metadata": {}
  },
  {
   "cell_type": "code",
   "execution_count": 47,
   "metadata": {
    "tags": []
   },
   "outputs": [
    {
     "output_type": "stream",
     "name": "stdout",
     "text": [
      "3\n"
     ]
    }
   ],
   "source": [
    "import math as m\n",
    "\n",
    "def solution(total_lambs):\n",
    "    \n",
    "    return int(stingy(total_lambs) - generous(total_lambs))\n",
    "    \n",
    "def generous(lambs):\n",
    "    \n",
    "    # Formula for a geometric sequence (find closest n)\n",
    "    a_1 = 1\n",
    "    r = 2\n",
    "    \n",
    "    henchmen = m.floor(m.log((lambs/a_1) + 1, r))\n",
    "    \n",
    "    return henchmen\n",
    "    \n",
    "def stingy(lambs):\n",
    "    \n",
    "    accumulated_lambs = 0\n",
    "    \n",
    "    for henchmen, f_n in enumerate(fib(lambs)):\n",
    "        accumulated_lambs += f_n\n",
    "        if accumulated_lambs > lambs:\n",
    "            return henchmen\n",
    "    \n",
    "def fib(lambs):\n",
    "    \n",
    "    a = 1\n",
    "    b = 1\n",
    "    \n",
    "    while a <= m.pow(10, 9):\n",
    "        yield a\n",
    "        a, b = b, a + b\n",
    "\n",
    "print(solution(143))"
   ]
  },
  {
   "source": [
    "En Route Salute\n",
    "===============\n",
    "\n",
    "Commander Lambda loves efficiency and hates anything that wastes time. The Commander is a busy lamb, after all! Henchmen who identify sources of inefficiency and come up with ways to remove them are generously rewarded. You've spotted one such source, and you think solving it will help you build the reputation you need to get promoted.\n",
    "\n",
    "Every time the Commander's employees pass each other in the hall, each of them must stop and salute each other -- one at a time -- before resuming their path. A salute is five seconds long, so each exchange of salutes takes a full ten seconds (Commander Lambda's salute is a bit, er, involved). You think that by removing the salute requirement, you could save several collective hours of employee time per day. But first, you need to show the Commander how bad the problem really is.\n",
    "\n",
    "Write a program that counts how many salutes are exchanged during a typical walk along a hallway. The hall is represented by a string. For example:\n",
    "\n",
    "\"--->-><-><-->-\"\n",
    "\n",
    "Each hallway string will contain three different types of characters: '>', an employee walking to the right; '<', an employee walking to the left; and '-', an empty space. Every employee walks at the same speed either to right or to the left, according to their direction. Whenever two employees cross, each of them salutes the other. They then continue walking until they reach the end, finally leaving the hallway. In the above example, they salute 10 times.\n",
    "\n",
    "Write a function solution(s) which takes a string representing employees walking along a hallway and returns the number of times the employees will salute. s will contain at least 1 and at most 100 characters, each one of -, >, or <."
   ],
   "cell_type": "markdown",
   "metadata": {}
  },
  {
   "cell_type": "code",
   "execution_count": 60,
   "metadata": {},
   "outputs": [
    {
     "output_type": "stream",
     "name": "stdout",
     "text": [
      "4\n"
     ]
    }
   ],
   "source": [
    "def solution(s):\n",
    "    \n",
    "    s_filter = s.replace('-', '')\n",
    "    s_list = [char for char in s_filter]\n",
    "    \n",
    "    salutes = 0\n",
    "    \n",
    "    for i in range(0, len(s_list)):\n",
    "        if s_list[i] == '>':\n",
    "            salutes += s_list[i:].count('<')\n",
    "            \n",
    "        elif s_list[i] == '<':\n",
    "            salutes += s_list[:i].count('>')\n",
    "            \n",
    "    return salutes\n",
    "\n",
    "print(solution(\"<<>><\"))"
   ]
  }
 ]
}